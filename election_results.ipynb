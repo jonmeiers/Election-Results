{
 "cells": [
  {
   "cell_type": "markdown",
   "metadata": {},
   "source": [
    "# Election Results:\n",
    "\n",
    "#### We're part of an impartial research group that conducts phone surveys prior to local elections. During this election season, the group conducted a survey to determine how many people would vote for Cynthia Ceballos vs. Justin Kerrigan in the mayoral election.\n",
    "\n",
    "#### Now that the election has occurred, our group wants to compare the survey responses to the actual results. Was our survey a good indicator? Let's find out!"
   ]
  },
  {
   "cell_type": "markdown",
   "metadata": {},
   "source": [
    "First, we import `numpy` and `matplotlib`:"
   ]
  },
  {
   "cell_type": "code",
   "execution_count": 22,
   "metadata": {},
   "outputs": [],
   "source": [
    "import numpy as np\n",
    "from matplotlib import pyplot as plt"
   ]
  },
  {
   "cell_type": "code",
   "execution_count": 23,
   "metadata": {},
   "outputs": [],
   "source": [
    "survey_responses = ['Ceballos', 'Kerrigan', 'Ceballos', 'Ceballos', 'Ceballos',\n",
    "                    'Kerrigan', 'Kerrigan', 'Ceballos', 'Ceballos', 'Ceballos', \n",
    "                    'Kerrigan', 'Kerrigan', 'Ceballos', 'Ceballos', 'Kerrigan', \n",
    "                    'Kerrigan', 'Ceballos', 'Ceballos', 'Kerrigan', 'Kerrigan', \n",
    "                    'Kerrigan', 'Kerrigan', 'Kerrigan', 'Kerrigan', 'Ceballos', \n",
    "                    'Ceballos', 'Ceballos', 'Ceballos', 'Ceballos', 'Ceballos',\n",
    "                    'Kerrigan', 'Kerrigan', 'Ceballos', 'Ceballos', 'Ceballos', \n",
    "                    'Kerrigan', 'Kerrigan', 'Ceballos', 'Ceballos', 'Kerrigan', \n",
    "                    'Kerrigan', 'Ceballos', 'Ceballos', 'Kerrigan', 'Kerrigan', \n",
    "                    'Kerrigan', 'Kerrigan', 'Kerrigan', 'Kerrigan', 'Ceballos',\n",
    "                    'Kerrigan', 'Kerrigan', 'Ceballos', 'Ceballos', 'Ceballos', \n",
    "                    'Kerrigan', 'Kerrigan', 'Ceballos', 'Ceballos', 'Kerrigan', \n",
    "                    'Kerrigan', 'Ceballos', 'Ceballos', 'Kerrigan', 'Kerrigan', \n",
    "                    'Kerrigan', 'Kerrigan', 'Kerrigan', 'Kerrigan', 'Ceballos']"
   ]
  },
  {
   "cell_type": "markdown",
   "metadata": {},
   "source": [
    "Above is a list of different survey responses. We will calculate the number of people who answered 'Ceballos' and save the answer to the variable `total_ceballos`. Then we'll print the variable to the terminal to see its value."
   ]
  },
  {
   "cell_type": "markdown",
   "metadata": {},
   "source": [
    "We must first convert our list of survey responses to an array using `numpy`."
   ]
  },
  {
   "cell_type": "code",
   "execution_count": 24,
   "metadata": {},
   "outputs": [],
   "source": [
    "survey_responses_array = np.array(survey_responses)"
   ]
  },
  {
   "cell_type": "markdown",
   "metadata": {},
   "source": [
    "Then we select the indices with only Ceballos' name, use the len function to get the count of Ceballos' responses, and assign it to the variable `total_ceballos`."
   ]
  },
  {
   "cell_type": "code",
   "execution_count": 25,
   "metadata": {},
   "outputs": [
    {
     "name": "stdout",
     "output_type": "stream",
     "text": [
      "33\n"
     ]
    }
   ],
   "source": [
    "total_ceballos = len(survey_responses_array\n",
    "                    [survey_responses_array == 'Ceballos'])\n",
    "print(total_ceballos)"
   ]
  },
  {
   "cell_type": "markdown",
   "metadata": {},
   "source": [
    "Now we'll calculate the percentage of people in the survey who voted for Ceballos and save it to the variable `percentage_ceballos`. We'll print the variable to the terminal to see its value."
   ]
  },
  {
   "cell_type": "code",
   "execution_count": 26,
   "metadata": {},
   "outputs": [
    {
     "name": "stdout",
     "output_type": "stream",
     "text": [
      "47.1428571429%\n"
     ]
    }
   ],
   "source": [
    "percentage_ceballos = np.mean(\n",
    "                             survey_responses_array\n",
    "                             == 'Ceballos')\n",
    "print('{}%'.format(\n",
    "                  percentage_ceballos * 100))"
   ]
  },
  {
   "cell_type": "markdown",
   "metadata": {},
   "source": [
    "In the real election, 54% of the 10,000 town population voted for Cynthia Ceballos. Our supervisors are concerned because this is a very different outcome than what the poll predicted. They want us to determine if there is something wrong with the poll or if given the sample size, it was an entirely reasonable result. We'll now generate a binomial distribution that takes the number of total survey responses, the actual success rate, and the size of the town's population as its parameters. Then we'll divide the distribution by the number of survey responses. We'll save our calculation to the variable `possible_surveys`."
   ]
  },
  {
   "cell_type": "code",
   "execution_count": 27,
   "metadata": {},
   "outputs": [
    {
     "name": "stdout",
     "output_type": "stream",
     "text": [
      "[0.4        0.51428571 0.58571429 ... 0.5        0.44285714 0.48571429]\n"
     ]
    }
   ],
   "source": [
    "total_survey_responses = len(survey_responses_array)\n",
    "possible_surveys = np.random.binomial(\n",
    "    total_survey_responses,\n",
    "    0.54,\n",
    "    size=10000) / float(\n",
    "    total_survey_responses)\n",
    "print(possible_surveys)"
   ]
  },
  {
   "cell_type": "markdown",
   "metadata": {},
   "source": [
    "Now we plot a histogram of `possible_surveys` with a range of 0-1 and 20 bins."
   ]
  },
  {
   "cell_type": "code",
   "execution_count": 28,
   "metadata": {},
   "outputs": [
    {
     "data": {
      "image/png": "[encoded data removed]",
      "text/plain": [
       "<Figure size 432x288 with 1 Axes>"
      ]
     },
     "metadata": {},
     "output_type": "display_data"
    }
   ],
   "source": [
    "plt.hist(possible_surveys,\n",
    "        range=(0, 1),\n",
    "        bins=20)\n",
    "plt.show()"
   ]
  },
  {
   "cell_type": "markdown",
   "metadata": {},
   "source": [
    "As we saw, 47% of people we surveyed said they would vote for Ceballos, but 54% of people voted for Ceballos in the actual election. Let's calculate the percentage of surveys that could have an outcome of Ceballos receiving less than 50% of the vote and save it to the variable `ceballos_loss_surveys`."
   ]
  },
  {
   "cell_type": "code",
   "execution_count": 29,
   "metadata": {},
   "outputs": [
    {
     "name": "stdout",
     "output_type": "stream",
     "text": [
      "0.2167\n"
     ]
    }
   ],
   "source": [
    "ceballos_loss_surveys = np.mean(\n",
    "    possible_surveys < 0.5)\n",
    "print(ceballos_loss_surveys)"
   ]
  },
  {
   "cell_type": "markdown",
   "metadata": {},
   "source": [
    "Let's generate another binomial distribution, but this time, see what would happen if we had instead surveyed 7,000 people. We will divide the distribution by the size of the survey and save our findings to `large_survey`."
   ]
  },
  {
   "cell_type": "code",
   "execution_count": 30,
   "metadata": {},
   "outputs": [
    {
     "name": "stdout",
     "output_type": "stream",
     "text": [
      "[0.53314286 0.53685714 0.53814286 ... 0.53257143 0.538      0.54085714]\n"
     ]
    }
   ],
   "source": [
    "large_survey = np.random.binomial(\n",
    "    7000,\n",
    "    0.54,\n",
    "    size=10000) / 7000.\n",
    "print(large_survey)"
   ]
  },
  {
   "cell_type": "markdown",
   "metadata": {},
   "source": [
    "Now, we recalculate the percentage of surveys that would have an outcome of Ceballos losing and save it to the variable `ceballos_loss_new`. We print the value to the terminal."
   ]
  },
  {
   "cell_type": "code",
   "execution_count": 31,
   "metadata": {},
   "outputs": [
    {
     "name": "stdout",
     "output_type": "stream",
     "text": [
      "0.0\n"
     ]
    }
   ],
   "source": [
    "ceballos_loss_new = np.mean(\n",
    "    large_survey < 0.50)\n",
    "print(ceballos_loss_new)"
   ]
  },
  {
   "cell_type": "markdown",
   "metadata": {},
   "source": [
    "- ##### What do we notice about this new value? \n",
    "- ##### What advice would we give to our supervisors about predicting results from surveys?\n",
    "\n",
    "This new value (0) means that if we surveyed 7,000 people, Ceballos would never be predicted to lose, accurately reflecting the actual election results. This means that if we generate a survey with a large enough sample of responders, we will be able to completely accurately predict the election results. So, we would advise our supervisors that we can only accurately predict results based on surveys if our number of responders is large enough."
   ]
  }
 ],
 "metadata": {
  "kernelspec": {
   "display_name": "Python 2",
   "language": "python",
   "name": "python2"
  },
  "language_info": {
   "codemirror_mode": {
    "name": "ipython",
    "version": 2
   },
   "file_extension": ".py",
   "mimetype": "text/x-python",
   "name": "python",
   "nbconvert_exporter": "python",
   "pygments_lexer": "ipython2",
   "version": "2.7.14"
  }
 },
 "nbformat": 4,
 "nbformat_minor": 2
}
